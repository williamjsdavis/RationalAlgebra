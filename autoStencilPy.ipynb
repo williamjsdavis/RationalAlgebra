{
 "cells": [
  {
   "cell_type": "markdown",
   "metadata": {},
   "source": [
    "# Python version"
   ]
  },
  {
   "cell_type": "code",
   "execution_count": 1,
   "metadata": {},
   "outputs": [],
   "source": [
    "import fractions\n",
    "import numpy as np\n",
    "import RationalAlgebra as ra\n",
    "from math import factorial\n",
    "from typing import List"
   ]
  },
  {
   "cell_type": "code",
   "execution_count": 2,
   "metadata": {},
   "outputs": [],
   "source": [
    "intVector = List[int]"
   ]
  },
  {
   "cell_type": "code",
   "execution_count": 3,
   "metadata": {},
   "outputs": [],
   "source": [
    "sampleIndices = [-2, -1, 0, 1, 2]\n",
    "derivativeOrder = 3"
   ]
  },
  {
   "cell_type": "code",
   "execution_count": 4,
   "metadata": {},
   "outputs": [],
   "source": [
    "def vectorMultiplicand(d: int, N: int) -> intVector:\n",
    "    c = np.zeros((N, 1))\n",
    "    c = c.astype(int)\n",
    "    c[d] = factorial(d)\n",
    "    return c\n",
    "def matrixMultiplier(C: intVector, N: int):\n",
    "    M = np.zeros((N, N))\n",
    "    M = M.astype(int)\n",
    "    exponentRange = range(N)\n",
    "    for i in exponentRange:\n",
    "        M[:,i] = [C[i]**x for x in exponentRange]\n",
    "    \n",
    "    return M"
   ]
  },
  {
   "cell_type": "code",
   "execution_count": 5,
   "metadata": {},
   "outputs": [
    {
     "data": {
      "text/plain": [
       "int"
      ]
     },
     "execution_count": 5,
     "metadata": {},
     "output_type": "execute_result"
    }
   ],
   "source": [
    "cc = np.zeros(5, dtype=fractions.Fraction)\n",
    "type(cc[1])"
   ]
  },
  {
   "cell_type": "code",
   "execution_count": 6,
   "metadata": {
    "scrolled": true
   },
   "outputs": [
    {
     "name": "stdout",
     "output_type": "stream",
     "text": [
      "[[ 1  1  1  1  1]\n",
      " [-2 -1  0  1  2]\n",
      " [ 4  1  0  1  4]\n",
      " [-8 -1  0  1  8]\n",
      " [16  1  0  1 16]]\n",
      "[[0]\n",
      " [0]\n",
      " [0]\n",
      " [6]\n",
      " [0]]\n"
     ]
    }
   ],
   "source": [
    "testM = matrixMultiplier([-2,-1,0,1,2], 5)\n",
    "testc = vectorMultiplicand(3,5)\n",
    "print(testM)\n",
    "print(testc)"
   ]
  },
  {
   "cell_type": "code",
   "execution_count": 7,
   "metadata": {},
   "outputs": [
    {
     "data": {
      "text/plain": [
       "array([[-1.00228468e-18,  8.33333333e-02, -4.16666667e-02,\n",
       "        -8.33333333e-02,  4.16666667e-02],\n",
       "       [ 0.00000000e+00, -6.66666667e-01,  6.66666667e-01,\n",
       "         1.66666667e-01, -1.66666667e-01],\n",
       "       [ 1.00000000e+00, -2.37904934e-16, -1.25000000e+00,\n",
       "         0.00000000e+00,  2.50000000e-01],\n",
       "       [-2.29093640e-18,  6.66666667e-01,  6.66666667e-01,\n",
       "        -1.66666667e-01, -1.66666667e-01],\n",
       "       [ 1.14546820e-18, -8.33333333e-02, -4.16666667e-02,\n",
       "         8.33333333e-02,  4.16666667e-02]])"
      ]
     },
     "execution_count": 7,
     "metadata": {},
     "output_type": "execute_result"
    }
   ],
   "source": [
    "np.linalg.inv(testM)"
   ]
  },
  {
   "cell_type": "code",
   "execution_count": 8,
   "metadata": {},
   "outputs": [
    {
     "data": {
      "text/plain": [
       "array([[-0.   ,  0.083, -0.042, -0.083,  0.042],\n",
       "       [ 0.   , -0.667,  0.667,  0.167, -0.167],\n",
       "       [ 1.   , -0.   , -1.25 ,  0.   ,  0.25 ],\n",
       "       [-0.   ,  0.667,  0.667, -0.167, -0.167],\n",
       "       [ 0.   , -0.083, -0.042,  0.083,  0.042]])"
      ]
     },
     "execution_count": 8,
     "metadata": {},
     "output_type": "execute_result"
    }
   ],
   "source": [
    "np.round(np.linalg.inv(testM),decimals=3)"
   ]
  },
  {
   "cell_type": "markdown",
   "metadata": {},
   "source": [
    "## Create rational matrix"
   ]
  },
  {
   "cell_type": "code",
   "execution_count": 9,
   "metadata": {},
   "outputs": [
    {
     "name": "stdout",
     "output_type": "stream",
     "text": [
      "[[ 1,  1,  1,  1,  1],\n",
      " [-2, -1,  0,  1,  2],\n",
      " [ 4,  1,  0,  1,  4],\n",
      " [-8, -1,  0,  1,  8],\n",
      " [16,  1,  0,  1, 16]]\n"
     ]
    }
   ],
   "source": [
    "A = ra.RationalMatrix(testM)\n",
    "print(A)"
   ]
  },
  {
   "cell_type": "code",
   "execution_count": 10,
   "metadata": {},
   "outputs": [
    {
     "name": "stdout",
     "output_type": "stream",
     "text": [
      "[[    0,  1/12, -1/24, -1/12,  1/24],\n",
      " [    0,  -2/3,   2/3,   1/6,  -1/6],\n",
      " [    1,     0,  -5/4,     0,   1/4],\n",
      " [    0,   2/3,   2/3,  -1/6,  -1/6],\n",
      " [    0, -1/12, -1/24,  1/12,  1/24]]\n"
     ]
    }
   ],
   "source": [
    "Ainv = ra.inv(A)\n",
    "print(Ainv)"
   ]
  },
  {
   "cell_type": "code",
   "execution_count": 11,
   "metadata": {},
   "outputs": [
    {
     "name": "stdout",
     "output_type": "stream",
     "text": [
      "[[     1,      0,      0,      0,      0],\n",
      " [  1/16,      1,      0,      0,      0],\n",
      " [  -1/8, -14/15,      1,      0,      0],\n",
      " [   1/4,    4/5,   -6/7,      1,      0],\n",
      " [  -1/2,  -8/15,    4/7,    1/2,      1]]\n",
      "[[   16,     1,     0,     1,    16],\n",
      " [    0, 15/16,     1, 15/16,     0],\n",
      " [    0,     0, 14/15,     2,     4],\n",
      " [    0,     0,     0,  12/7,  24/7],\n",
      " [    0,     0,     0,     0,    12]]\n"
     ]
    }
   ],
   "source": [
    "L, U, P = ra.lu(A)\n",
    "print(L)\n",
    "print(U)"
   ]
  },
  {
   "cell_type": "code",
   "execution_count": 12,
   "metadata": {},
   "outputs": [
    {
     "name": "stdout",
     "output_type": "stream",
     "text": [
      "[[16,  1,  0,  1, 16],\n",
      " [ 1,  1,  1,  1,  1],\n",
      " [-2, -1,  0,  1,  2],\n",
      " [ 4,  1,  0,  1,  4],\n",
      " [-8, -1,  0,  1,  8]]\n"
     ]
    }
   ],
   "source": [
    "print( L @ U )"
   ]
  },
  {
   "cell_type": "code",
   "execution_count": 13,
   "metadata": {},
   "outputs": [
    {
     "name": "stdout",
     "output_type": "stream",
     "text": [
      "[[16,  1,  0,  1, 16],\n",
      " [ 1,  1,  1,  1,  1],\n",
      " [-2, -1,  0,  1,  2],\n",
      " [ 4,  1,  0,  1,  4],\n",
      " [-8, -1,  0,  1,  8]]\n"
     ]
    }
   ],
   "source": [
    "print( P @ A )"
   ]
  },
  {
   "cell_type": "code",
   "execution_count": 14,
   "metadata": {},
   "outputs": [
    {
     "name": "stdout",
     "output_type": "stream",
     "text": [
      "[[ 1,  1,  1,  1,  1],\n",
      " [-2, -1,  0,  1,  2],\n",
      " [ 4,  1,  0,  1,  4],\n",
      " [-8, -1,  0,  1,  8],\n",
      " [16,  1,  0,  1, 16]]\n"
     ]
    }
   ],
   "source": [
    "print( ra.inv(P) @ L @ U )"
   ]
  },
  {
   "cell_type": "markdown",
   "metadata": {},
   "source": [
    "# Create rational vector"
   ]
  },
  {
   "cell_type": "code",
   "execution_count": 15,
   "metadata": {},
   "outputs": [
    {
     "name": "stdout",
     "output_type": "stream",
     "text": [
      "[[    0],\n",
      " [    0],\n",
      " [    0],\n",
      " [42/11],\n",
      " [    0]]\n",
      "[[0, 0, 0, 6, 0]]\n"
     ]
    }
   ],
   "source": [
    "c = ra.RationalVector(testc) * fractions.Fraction(7,11)\n",
    "cT = ra.RationalVector(testc.transpose())\n",
    "print(c)\n",
    "print(cT)"
   ]
  },
  {
   "cell_type": "code",
   "execution_count": 16,
   "metadata": {},
   "outputs": [
    {
     "name": "stdout",
     "output_type": "stream",
     "text": [
      "[[252/11]]\n"
     ]
    }
   ],
   "source": [
    "print(cT @ c)"
   ]
  },
  {
   "cell_type": "code",
   "execution_count": 17,
   "metadata": {},
   "outputs": [
    {
     "name": "stdout",
     "output_type": "stream",
     "text": [
      "[[    0],\n",
      " [    0],\n",
      " [    0],\n",
      " [    0],\n",
      " [42/11]]\n"
     ]
    }
   ],
   "source": [
    "print(P @ c)"
   ]
  },
  {
   "cell_type": "code",
   "execution_count": 18,
   "metadata": {},
   "outputs": [
    {
     "name": "stdout",
     "output_type": "stream",
     "text": [
      "[[0, 0, 0, 0, 5],\n",
      " [5, 0, 0, 0, 0],\n",
      " [0, 5, 0, 0, 0],\n",
      " [0, 0, 5, 0, 0],\n",
      " [0, 0, 0, 5, 0]]\n"
     ]
    }
   ],
   "source": [
    "print(P * fractions.Fraction(5.))"
   ]
  },
  {
   "cell_type": "code",
   "execution_count": 19,
   "metadata": {},
   "outputs": [
    {
     "data": {
      "text/plain": [
       "array([[0., 0., 0., 0., 0.],\n",
       "       [0., 0., 0., 0., 0.],\n",
       "       [0., 0., 0., 0., 0.],\n",
       "       [0., 0., 0., 0., 0.],\n",
       "       [0., 0., 0., 0., 0.]])"
      ]
     },
     "execution_count": 19,
     "metadata": {},
     "output_type": "execute_result"
    }
   ],
   "source": [
    "np.ones((5,5)) * np.zeros((5,5))"
   ]
  },
  {
   "cell_type": "code",
   "execution_count": 20,
   "metadata": {},
   "outputs": [
    {
     "data": {
      "text/plain": [
       "array([[0., 0., 0., 0., 0.]])"
      ]
     },
     "execution_count": 20,
     "metadata": {},
     "output_type": "execute_result"
    }
   ],
   "source": [
    "np.ones((1,5)) * np.zeros((1,5))"
   ]
  },
  {
   "cell_type": "code",
   "execution_count": 21,
   "metadata": {},
   "outputs": [
    {
     "name": "stdout",
     "output_type": "stream",
     "text": [
      "Testing\r\n"
     ]
    }
   ],
   "source": [
    "!python RationalAlgebra.py"
   ]
  },
  {
   "cell_type": "code",
   "execution_count": 22,
   "metadata": {},
   "outputs": [
    {
     "name": "stdout",
     "output_type": "stream",
     "text": [
      "[[0, 0, 0, 0, 1],\n",
      " [1, 0, 0, 0, 0],\n",
      " [0, 1, 0, 0, 0],\n",
      " [0, 0, 1, 0, 0],\n",
      " [0, 0, 0, 1, 0]]\n"
     ]
    }
   ],
   "source": [
    "print(P @ ra.identity(5))"
   ]
  },
  {
   "cell_type": "code",
   "execution_count": 49,
   "metadata": {},
   "outputs": [
    {
     "name": "stdout",
     "output_type": "stream",
     "text": [
      "................................\r\n",
      "----------------------------------------------------------------------\r\n",
      "Ran 32 tests in 0.034s\r\n",
      "\r\n",
      "OK\r\n"
     ]
    }
   ],
   "source": [
    "!python test_basic.py"
   ]
  },
  {
   "cell_type": "code",
   "execution_count": 24,
   "metadata": {},
   "outputs": [
    {
     "name": "stdout",
     "output_type": "stream",
     "text": [
      "[[  0],\n",
      " [  0],\n",
      " [3/4],\n",
      " [  0],\n",
      " [9/2]]\n",
      "[[9/2,   0, 5/7,   0,   0]]\n",
      "[[   1,    0,    0,    0,    0],\n",
      " [   0,    1,  3/5,    0,    0],\n",
      " [   0,    0,    1,    0, 11/7],\n",
      " [   0,    0,    0,    1,    0],\n",
      " [   0,    0, 71/3,    0,    1]]\n"
     ]
    }
   ],
   "source": [
    "tmpC = ra.RationalVector(np.zeros((5,1)).astype(int))\n",
    "tmpC.value[2] = fractions.Fraction(3,4)\n",
    "tmpC.value[4] = fractions.Fraction(9,2)\n",
    "tmpR = ra.RationalVector(np.zeros((1,5)).astype(int))\n",
    "tmpR.value[0][2] = fractions.Fraction(5,7)\n",
    "tmpR.value[0][0] = fractions.Fraction(9,2)\n",
    "tmpM = ra.RationalMatrix(np.identity(5).astype(int))\n",
    "tmpM.value[2,4] = fractions.Fraction(11,7)\n",
    "tmpM.value[1,2] = fractions.Fraction(3,5)\n",
    "tmpM.value[4,2] = fractions.Fraction(71,3)\n",
    "print(tmpC)\n",
    "print(tmpR)\n",
    "print(tmpM)"
   ]
  },
  {
   "cell_type": "code",
   "execution_count": 25,
   "metadata": {},
   "outputs": [
    {
     "name": "stdout",
     "output_type": "stream",
     "text": [
      "[[   1,    0,    0,    0,    0],\n",
      " [   0,    1,  3/5,    0,    0],\n",
      " [   0,    0,    1,    0, 11/7],\n",
      " [   0,    0,    0,    1,    0],\n",
      " [   0,    0, 71/3,    0,    1]]\n",
      "[[   1,    0,    0,    0,    0],\n",
      " [   0,    1,    0,    0,    0],\n",
      " [   0,    0,    1,    0,    0],\n",
      " [   0,    0,    0,    1,    0],\n",
      " [   0,    0, 3/71,    0,    1]]\n",
      "[[      1,       0,       0,       0,       0],\n",
      " [      0,       1,     3/5,       0,       0],\n",
      " [      0,       0,    71/3,       0,       1],\n",
      " [      0,       0,       0,       1,       0],\n",
      " [      0,       0,       0,       0, 760/497]]\n",
      "[[1, 0, 0, 0, 0],\n",
      " [0, 1, 0, 0, 0],\n",
      " [0, 0, 0, 0, 1],\n",
      " [0, 0, 0, 1, 0],\n",
      " [0, 0, 1, 0, 0]]\n"
     ]
    }
   ],
   "source": [
    "Ltest,Utest,Ptest = ra.lu(tmpM)\n",
    "print(tmpM)\n",
    "print(Ltest)\n",
    "print(Utest)\n",
    "print(Ptest)"
   ]
  },
  {
   "cell_type": "code",
   "execution_count": 26,
   "metadata": {},
   "outputs": [
    {
     "data": {
      "text/plain": [
       "Fraction(0, 1)"
      ]
     },
     "execution_count": 26,
     "metadata": {},
     "output_type": "execute_result"
    }
   ],
   "source": [
    "Ptest.value[4,3]"
   ]
  },
  {
   "cell_type": "code",
   "execution_count": 27,
   "metadata": {},
   "outputs": [
    {
     "name": "stdout",
     "output_type": "stream",
     "text": [
      "[[   1,    0,    0,    0,    0],\n",
      " [   0,    1,  3/5,    0,    0],\n",
      " [   0,    0,    1,    0, 11/7],\n",
      " [   0,    0,    0,    1,    0],\n",
      " [   0,    0, 71/3,    0,    1]]\n"
     ]
    }
   ],
   "source": [
    "print(ra.inv(Ptest) @ Ltest @ Utest)"
   ]
  },
  {
   "cell_type": "code",
   "execution_count": 28,
   "metadata": {},
   "outputs": [
    {
     "name": "stdout",
     "output_type": "stream",
     "text": [
      "[[   1,    0,    0,    0,    0],\n",
      " [   0,    1,  3/5,    0,    0],\n",
      " [   0,    0, 71/3,    0,    1],\n",
      " [   0,    0,    0,    1,    0],\n",
      " [   0,    0,    1,    0, 11/7]]\n"
     ]
    }
   ],
   "source": [
    "print(Ptest @ tmpM)"
   ]
  },
  {
   "cell_type": "code",
   "execution_count": 29,
   "metadata": {},
   "outputs": [
    {
     "name": "stdout",
     "output_type": "stream",
     "text": [
      "[[   1,    0,    0,    0,    0],\n",
      " [   0,    1,  3/5,    0,    0],\n",
      " [   0,    0, 71/3,    0,    1],\n",
      " [   0,    0,    0,    1,    0],\n",
      " [   0,    0,    1,    0, 11/7]]\n"
     ]
    }
   ],
   "source": [
    "print(Ltest @ Utest)"
   ]
  },
  {
   "cell_type": "code",
   "execution_count": 30,
   "metadata": {},
   "outputs": [
    {
     "name": "stdout",
     "output_type": "stream",
     "text": [
      "[[       1,        0,        0,        0,        0],\n",
      " [       0,        1,  63/3800,        0, -99/3800],\n",
      " [       0,        0,  -21/760,        0,   33/760],\n",
      " [       0,        0,        0,        1,        0],\n",
      " [       0,        0,  497/760,        0,  -21/760]]\n"
     ]
    }
   ],
   "source": [
    "invMtest = ra.inv(tmpM)\n",
    "print(invMtest)"
   ]
  },
  {
   "cell_type": "code",
   "execution_count": 31,
   "metadata": {},
   "outputs": [
    {
     "data": {
      "text/plain": [
       "Fraction(0, 1)"
      ]
     },
     "execution_count": 31,
     "metadata": {},
     "output_type": "execute_result"
    }
   ],
   "source": [
    "invMtest.value[0,3]"
   ]
  },
  {
   "cell_type": "code",
   "execution_count": 32,
   "metadata": {},
   "outputs": [
    {
     "name": "stdout",
     "output_type": "stream",
     "text": [
      "[[     5,      4,      4,      4,      4],\n",
      " [     4,      5,      4,      4,      4],\n",
      " [     4,      4,      5,      4,      4],\n",
      " [     4,      4,      4,      5,      4],\n",
      " [     4,      4, 287/71,      4,      5]]\n"
     ]
    }
   ],
   "source": [
    "print(Ltest + 4)"
   ]
  },
  {
   "cell_type": "code",
   "execution_count": 33,
   "metadata": {},
   "outputs": [
    {
     "name": "stdout",
     "output_type": "stream",
     "text": [
      "[[Fraction(3, 1) Fraction(3, 1) Fraction(6, 1) Fraction(4, 1)\n",
      "  Fraction(3, 1)]]\n",
      "[[Fraction(3, 1) Fraction(4, 1) Fraction(2, 1) Fraction(2, 1)\n",
      "  Fraction(9, 1)]]\n"
     ]
    }
   ],
   "source": [
    "tmp1 = ra.RationalVector((10*np.random.rand(1,5)).astype(int))\n",
    "tmp2 = ra.RationalVector((10*np.random.rand(1,5)).astype(int))\n",
    "print(tmp1.value)\n",
    "print(tmp2.value)"
   ]
  },
  {
   "cell_type": "code",
   "execution_count": 34,
   "metadata": {},
   "outputs": [
    {
     "name": "stdout",
     "output_type": "stream",
     "text": [
      "here3\n",
      "[[ 6,  7,  8,  6, 12]]\n"
     ]
    }
   ],
   "source": [
    "print(tmp1 + tmp2)"
   ]
  },
  {
   "cell_type": "code",
   "execution_count": null,
   "metadata": {},
   "outputs": [],
   "source": []
  }
 ],
 "metadata": {
  "@webio": {
   "lastCommId": null,
   "lastKernelId": null
  },
  "kernelspec": {
   "display_name": "Python 3",
   "language": "python",
   "name": "python3"
  },
  "language_info": {
   "codemirror_mode": {
    "name": "ipython",
    "version": 3
   },
   "file_extension": ".py",
   "mimetype": "text/x-python",
   "name": "python",
   "nbconvert_exporter": "python",
   "pygments_lexer": "ipython3",
   "version": "3.6.10"
  }
 },
 "nbformat": 4,
 "nbformat_minor": 4
}

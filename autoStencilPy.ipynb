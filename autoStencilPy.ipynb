{
 "cells": [
  {
   "cell_type": "markdown",
   "metadata": {},
   "source": [
    "# Python version"
   ]
  },
  {
   "cell_type": "code",
   "execution_count": 1,
   "metadata": {},
   "outputs": [],
   "source": [
    "import fractions\n",
    "import numpy as np\n",
    "from math import factorial\n",
    "from typing import List\n"
   ]
  },
  {
   "cell_type": "code",
   "execution_count": 2,
   "metadata": {},
   "outputs": [],
   "source": [
    "intVector = List[int]"
   ]
  },
  {
   "cell_type": "code",
   "execution_count": 3,
   "metadata": {},
   "outputs": [],
   "source": [
    "sampleIndices = [-2, -1, 0, 1, 2]\n",
    "derivativeOrder = 3"
   ]
  },
  {
   "cell_type": "code",
   "execution_count": 4,
   "metadata": {},
   "outputs": [],
   "source": [
    "def vectorMultiplicand(d: int, N: int) -> intVector:\n",
    "    c = np.zeros(N, dtype=fractions.Fraction)\n",
    "    c = c.astype(int)\n",
    "    c[d] = factorial(d)\n",
    "    return c\n",
    "def matrixMultiplier(C: intVector, N: int):\n",
    "    M = np.zeros((N, N))\n",
    "    M = M.astype(int)\n",
    "    exponentRange = range(N)\n",
    "    for i in exponentRange:\n",
    "        M[:,i] = [C[i]**x for x in exponentRange]\n",
    "    \n",
    "    return M"
   ]
  },
  {
   "cell_type": "code",
   "execution_count": 5,
   "metadata": {},
   "outputs": [
    {
     "data": {
      "text/plain": [
       "int"
      ]
     },
     "execution_count": 5,
     "metadata": {},
     "output_type": "execute_result"
    }
   ],
   "source": [
    "cc = np.zeros(5, dtype=fractions.Fraction)\n",
    "type(cc[1])"
   ]
  },
  {
   "cell_type": "code",
   "execution_count": 6,
   "metadata": {},
   "outputs": [
    {
     "name": "stdout",
     "output_type": "stream",
     "text": [
      "[[ 1  1  1  1  1]\n",
      " [-2 -1  0  1  2]\n",
      " [ 4  1  0  1  4]\n",
      " [-8 -1  0  1  8]\n",
      " [16  1  0  1 16]]\n",
      "[0 0 0 6 0]\n"
     ]
    }
   ],
   "source": [
    "testM = matrixMultiplier([-2,-1,0,1,2], 5)\n",
    "#testM[2,3] = 10000001\n",
    "testc = vectorMultiplicand(3,5)\n",
    "print(testM)\n",
    "print(testc)"
   ]
  },
  {
   "cell_type": "code",
   "execution_count": 7,
   "metadata": {},
   "outputs": [
    {
     "data": {
      "text/plain": [
       "array([[-1.00228468e-18,  8.33333333e-02, -4.16666667e-02,\n",
       "        -8.33333333e-02,  4.16666667e-02],\n",
       "       [ 0.00000000e+00, -6.66666667e-01,  6.66666667e-01,\n",
       "         1.66666667e-01, -1.66666667e-01],\n",
       "       [ 1.00000000e+00, -2.37904934e-16, -1.25000000e+00,\n",
       "         0.00000000e+00,  2.50000000e-01],\n",
       "       [-2.29093640e-18,  6.66666667e-01,  6.66666667e-01,\n",
       "        -1.66666667e-01, -1.66666667e-01],\n",
       "       [ 1.14546820e-18, -8.33333333e-02, -4.16666667e-02,\n",
       "         8.33333333e-02,  4.16666667e-02]])"
      ]
     },
     "execution_count": 7,
     "metadata": {},
     "output_type": "execute_result"
    }
   ],
   "source": [
    "np.linalg.inv(testM)"
   ]
  },
  {
   "cell_type": "markdown",
   "metadata": {},
   "source": [
    "## Create rational matrix class"
   ]
  },
  {
   "cell_type": "code",
   "execution_count": 8,
   "metadata": {},
   "outputs": [],
   "source": [
    "import RationalAlgebra as ra"
   ]
  },
  {
   "cell_type": "code",
   "execution_count": 9,
   "metadata": {},
   "outputs": [],
   "source": [
    "testMsmall = np.zeros((2,2),dtype=int) + fractions.Fraction()\n",
    "testMsmall[0,0] = fractions.Fraction(1,1)\n",
    "testMsmall[1,0] = fractions.Fraction(1,5)\n",
    "testMsmall[0,1] = fractions.Fraction(3,5)\n",
    "testMsmall[1,1] = fractions.Fraction(4,5)\n",
    "testRatM = ra.RationalMatrix(testM)"
   ]
  },
  {
   "cell_type": "code",
   "execution_count": 10,
   "metadata": {},
   "outputs": [
    {
     "name": "stdout",
     "output_type": "stream",
     "text": [
      "[[ 1,  1,  1,  1,  1],\n",
      " [-2, -1,  0,  1,  2],\n",
      " [ 4,  1,  0,  1,  4],\n",
      " [-8, -1,  0,  1,  8],\n",
      " [16,  1,  0,  1, 16]]\n"
     ]
    }
   ],
   "source": [
    "print(testRatM)"
   ]
  },
  {
   "cell_type": "code",
   "execution_count": 11,
   "metadata": {
    "scrolled": false
   },
   "outputs": [
    {
     "name": "stdout",
     "output_type": "stream",
     "text": [
      "[[    0,  1/12, -1/24, -1/12,  1/24],\n",
      " [    0,  -2/3,   2/3,   1/6,  -1/6],\n",
      " [    1,     0,  -5/4,     0,   1/4],\n",
      " [    0,   2/3,   2/3,  -1/6,  -1/6],\n",
      " [    0, -1/12, -1/24,  1/12,  1/24]]\n"
     ]
    }
   ],
   "source": [
    "testInv = ra.inv(testRatM)\n",
    "print(testInv)"
   ]
  },
  {
   "cell_type": "code",
   "execution_count": 12,
   "metadata": {},
   "outputs": [
    {
     "name": "stdout",
     "output_type": "stream",
     "text": [
      "[[     1,      0,      0,      0,      0],\n",
      " [  1/16,      1,      0,      0,      0],\n",
      " [  -1/8, -14/15,      1,      0,      0],\n",
      " [   1/4,    4/5,   -6/7,      1,      0],\n",
      " [  -1/2,  -8/15,    4/7,    1/2,      1]]\n",
      "[[   16,     1,     0,     1,    16],\n",
      " [    0, 15/16,     1, 15/16,     0],\n",
      " [    0,     0, 14/15,     2,     4],\n",
      " [    0,     0,     0,  12/7,  24/7],\n",
      " [    0,     0,     0,     0,    12]]\n",
      "[4 4 4 4 4]\n"
     ]
    }
   ],
   "source": [
    "L, U, ipiv = ra.lu(testRatM)\n",
    "print(L)\n",
    "print(U)\n",
    "print(ipiv)"
   ]
  },
  {
   "cell_type": "code",
   "execution_count": 13,
   "metadata": {},
   "outputs": [
    {
     "ename": "AttributeError",
     "evalue": "module 'RationalAlgebra' has no attribute 'isSquare'",
     "output_type": "error",
     "traceback": [
      "\u001b[0;31m---------------------------------------------------------------------------\u001b[0m",
      "\u001b[0;31mAttributeError\u001b[0m                            Traceback (most recent call last)",
      "\u001b[0;32m<ipython-input-13-ba2d7a9263fa>\u001b[0m in \u001b[0;36m<module>\u001b[0;34m\u001b[0m\n\u001b[0;32m----> 1\u001b[0;31m \u001b[0mra\u001b[0m\u001b[0;34m.\u001b[0m\u001b[0misSquare\u001b[0m\u001b[0;34m(\u001b[0m\u001b[0mL\u001b[0m\u001b[0;34m)\u001b[0m\u001b[0;34m\u001b[0m\u001b[0;34m\u001b[0m\u001b[0m\n\u001b[0m",
      "\u001b[0;31mAttributeError\u001b[0m: module 'RationalAlgebra' has no attribute 'isSquare'"
     ]
    }
   ],
   "source": [
    "ra."
   ]
  },
  {
   "cell_type": "code",
   "execution_count": null,
   "metadata": {},
   "outputs": [],
   "source": []
  }
 ],
 "metadata": {
  "@webio": {
   "lastCommId": null,
   "lastKernelId": null
  },
  "kernelspec": {
   "display_name": "Python 3",
   "language": "python",
   "name": "python3"
  },
  "language_info": {
   "codemirror_mode": {
    "name": "ipython",
    "version": 3
   },
   "file_extension": ".py",
   "mimetype": "text/x-python",
   "name": "python",
   "nbconvert_exporter": "python",
   "pygments_lexer": "ipython3",
   "version": "3.6.10"
  }
 },
 "nbformat": 4,
 "nbformat_minor": 4
}

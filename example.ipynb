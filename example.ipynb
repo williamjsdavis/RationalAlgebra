{
 "cells": [
  {
   "cell_type": "markdown",
   "metadata": {},
   "source": [
    "# Rational algebra example\n",
    "\n",
    "By William Davis\n",
    "\n",
    "## Motivation\n",
    "\n",
    "When solving linear algebra problems, it can be useful to use a computer to automate the calculations. However, Python's implementation of matrix operations often reverts to floating point representation of data. These incur a  small but noticeable error. \n",
    "\n",
    "As an example, say I have a $5\\times 5$ matrix which I want to find the inverse of."
   ]
  },
  {
   "cell_type": "code",
   "execution_count": 1,
   "metadata": {},
   "outputs": [],
   "source": [
    "import numpy as np"
   ]
  },
  {
   "cell_type": "code",
   "execution_count": 2,
   "metadata": {},
   "outputs": [],
   "source": [
    "def matrixMultiplier(C, N):\n",
    "    M = np.zeros((N, N))\n",
    "    M = M.astype(int)\n",
    "    exponentRange = range(N)\n",
    "    for i in exponentRange:\n",
    "        M[:,i] = [C[i]**x for x in exponentRange]\n",
    "    return M"
   ]
  },
  {
   "cell_type": "code",
   "execution_count": 3,
   "metadata": {
    "scrolled": true
   },
   "outputs": [
    {
     "name": "stdout",
     "output_type": "stream",
     "text": [
      "[[ 1  1  1  1  1]\n",
      " [-2 -1  0  1  2]\n",
      " [ 4  1  0  1  4]\n",
      " [-8 -1  0  1  8]\n",
      " [16  1  0  1 16]]\n"
     ]
    }
   ],
   "source": [
    "intM = matrixMultiplier([-2,-1,0,1,2], 5)\n",
    "print(intM)"
   ]
  },
  {
   "cell_type": "markdown",
   "metadata": {},
   "source": [
    "If we use `numpy`'s linear algebra inverse function, the result is a matrix of floating point numbers with small errors."
   ]
  },
  {
   "cell_type": "code",
   "execution_count": 4,
   "metadata": {},
   "outputs": [
    {
     "name": "stdout",
     "output_type": "stream",
     "text": [
      "[[-1.00228468e-18  8.33333333e-02 -4.16666667e-02 -8.33333333e-02\n",
      "   4.16666667e-02]\n",
      " [ 0.00000000e+00 -6.66666667e-01  6.66666667e-01  1.66666667e-01\n",
      "  -1.66666667e-01]\n",
      " [ 1.00000000e+00  2.37904934e-16 -1.25000000e+00 -5.94762335e-17\n",
      "   2.50000000e-01]\n",
      " [-2.29093640e-18  6.66666667e-01  6.66666667e-01 -1.66666667e-01\n",
      "  -1.66666667e-01]\n",
      " [ 1.14546820e-18 -8.33333333e-02 -4.16666667e-02  8.33333333e-02\n",
      "   4.16666667e-02]]\n"
     ]
    }
   ],
   "source": [
    "intMinv = np.linalg.inv(intM)\n",
    "print(intMinv)"
   ]
  },
  {
   "cell_type": "markdown",
   "metadata": {},
   "source": [
    "If I multiply the inverse result with the original matrix, the result is almost the identity matrix but not quite."
   ]
  },
  {
   "cell_type": "code",
   "execution_count": 5,
   "metadata": {},
   "outputs": [
    {
     "name": "stdout",
     "output_type": "stream",
     "text": [
      "[[ 1.00000000e+00  2.08166817e-17 -1.00228468e-18  4.16333634e-17\n",
      "   1.11022302e-16]\n",
      " [-8.88178420e-16  1.00000000e+00  0.00000000e+00 -3.88578059e-16\n",
      "  -8.88178420e-16]\n",
      " [ 8.88178420e-16  2.22044605e-16  1.00000000e+00  5.55111512e-16\n",
      "   8.88178420e-16]\n",
      " [ 0.00000000e+00  0.00000000e+00 -2.29093640e-18  1.00000000e+00\n",
      "   0.00000000e+00]\n",
      " [ 0.00000000e+00  0.00000000e+00  1.14546820e-18 -6.93889390e-18\n",
      "   1.00000000e+00]]\n"
     ]
    }
   ],
   "source": [
    "print(intMinv @ intM)"
   ]
  },
  {
   "cell_type": "markdown",
   "metadata": {},
   "source": [
    "How can we do operations like this, but keep the results in the rational numbers? In this work, I aimed to define matrix operations purely using rational numbers."
   ]
  },
  {
   "cell_type": "markdown",
   "metadata": {},
   "source": [
    "## Using the package: RationalAlgebra\n",
    "\n",
    "The matrix is passed to `RationalMatrix()` function, which instantiates it as a matrix of rational numbers."
   ]
  },
  {
   "cell_type": "code",
   "execution_count": 6,
   "metadata": {},
   "outputs": [],
   "source": [
    "import RationalAlgebra.RationalAlgebra as ra"
   ]
  },
  {
   "cell_type": "code",
   "execution_count": 7,
   "metadata": {},
   "outputs": [
    {
     "name": "stdout",
     "output_type": "stream",
     "text": [
      "[[ 1,  1,  1,  1,  1],\n",
      " [-2, -1,  0,  1,  2],\n",
      " [ 4,  1,  0,  1,  4],\n",
      " [-8, -1,  0,  1,  8],\n",
      " [16,  1,  0,  1, 16]]\n"
     ]
    }
   ],
   "source": [
    "rationalM = ra.RationalMatrix(intM)\n",
    "print(rationalM)"
   ]
  },
  {
   "cell_type": "markdown",
   "metadata": {},
   "source": [
    "Then, functions such as `inv()` can be used to perform operations. The result is a matrix of rational numbers!"
   ]
  },
  {
   "cell_type": "code",
   "execution_count": 8,
   "metadata": {},
   "outputs": [
    {
     "name": "stdout",
     "output_type": "stream",
     "text": [
      "[[    0,  1/12, -1/24, -1/12,  1/24],\n",
      " [    0,  -2/3,   2/3,   1/6,  -1/6],\n",
      " [    1,     0,  -5/4,     0,   1/4],\n",
      " [    0,   2/3,   2/3,  -1/6,  -1/6],\n",
      " [    0, -1/12, -1/24,  1/12,  1/24]]\n"
     ]
    }
   ],
   "source": [
    "Minv = ra.inv(rationalM)\n",
    "print(Minv)"
   ]
  },
  {
   "cell_type": "markdown",
   "metadata": {},
   "source": [
    "We can verify that the product of the matrix with its inverse is exactly the identity matrix."
   ]
  },
  {
   "cell_type": "code",
   "execution_count": 9,
   "metadata": {},
   "outputs": [
    {
     "name": "stdout",
     "output_type": "stream",
     "text": [
      "[[1, 0, 0, 0, 0],\n",
      " [0, 1, 0, 0, 0],\n",
      " [0, 0, 1, 0, 0],\n",
      " [0, 0, 0, 1, 0],\n",
      " [0, 0, 0, 0, 1]]\n"
     ]
    }
   ],
   "source": [
    "print(Minv @ rationalM)"
   ]
  },
  {
   "cell_type": "markdown",
   "metadata": {},
   "source": [
    "## Other features: rational vectors\n",
    "\n",
    "We can also instatiate row and column vectors of rational numbers."
   ]
  },
  {
   "cell_type": "code",
   "execution_count": 10,
   "metadata": {},
   "outputs": [],
   "source": [
    "from math import factorial\n",
    "def vectorMultiplicand(d, N):\n",
    "    C = np.zeros((N, 1))\n",
    "    C = C.astype(int)\n",
    "    C[d] = factorial(d)\n",
    "    return C"
   ]
  },
  {
   "cell_type": "code",
   "execution_count": 11,
   "metadata": {},
   "outputs": [
    {
     "name": "stdout",
     "output_type": "stream",
     "text": [
      "[[0],\n",
      " [0],\n",
      " [0],\n",
      " [6],\n",
      " [0]]\n"
     ]
    }
   ],
   "source": [
    "intC = vectorMultiplicand(3,5)\n",
    "rationalC = ra.RationalVector(intC)\n",
    "print(rationalC)"
   ]
  },
  {
   "cell_type": "markdown",
   "metadata": {},
   "source": [
    "We can then perform multiplication between matricies and vectors (as well as other combinations)."
   ]
  },
  {
   "cell_type": "code",
   "execution_count": 12,
   "metadata": {},
   "outputs": [
    {
     "name": "stdout",
     "output_type": "stream",
     "text": [
      "[[-1/2],\n",
      " [   1],\n",
      " [   0],\n",
      " [  -1],\n",
      " [ 1/2]]\n"
     ]
    }
   ],
   "source": [
    "print( ra.inv(rationalM) @ rationalC )"
   ]
  },
  {
   "cell_type": "markdown",
   "metadata": {},
   "source": [
    "## Other features: LU decomposition\n",
    "\n",
    "The rational inverse algorithm is implemented by a [LUP decomposition](https://en.wikipedia.org/wiki/LU_decomposition), with partial piviting. The $L, U, P$ matricies can be called with the `lu()` function. "
   ]
  },
  {
   "cell_type": "code",
   "execution_count": 13,
   "metadata": {},
   "outputs": [
    {
     "name": "stdout",
     "output_type": "stream",
     "text": [
      "[[     1,      0,      0,      0,      0],\n",
      " [  1/16,      1,      0,      0,      0],\n",
      " [  -1/8, -14/15,      1,      0,      0],\n",
      " [   1/4,    4/5,   -6/7,      1,      0],\n",
      " [  -1/2,  -8/15,    4/7,    1/2,      1]]\n",
      "[[   16,     1,     0,     1,    16],\n",
      " [    0, 15/16,     1, 15/16,     0],\n",
      " [    0,     0, 14/15,     2,     4],\n",
      " [    0,     0,     0,  12/7,  24/7],\n",
      " [    0,     0,     0,     0,    12]]\n"
     ]
    }
   ],
   "source": [
    "L, U, P = ra.lu(rationalM)\n",
    "print(L)\n",
    "print(U)"
   ]
  },
  {
   "cell_type": "markdown",
   "metadata": {},
   "source": [
    "We can verify that the decomposition worked by checking if $PM = LU$."
   ]
  },
  {
   "cell_type": "code",
   "execution_count": 14,
   "metadata": {},
   "outputs": [
    {
     "name": "stdout",
     "output_type": "stream",
     "text": [
      "[[16,  1,  0,  1, 16],\n",
      " [ 1,  1,  1,  1,  1],\n",
      " [-2, -1,  0,  1,  2],\n",
      " [ 4,  1,  0,  1,  4],\n",
      " [-8, -1,  0,  1,  8]]\n",
      "[[16,  1,  0,  1, 16],\n",
      " [ 1,  1,  1,  1,  1],\n",
      " [-2, -1,  0,  1,  2],\n",
      " [ 4,  1,  0,  1,  4],\n",
      " [-8, -1,  0,  1,  8]]\n"
     ]
    }
   ],
   "source": [
    "print( L @ U )\n",
    "print( P @ rationalM )"
   ]
  },
  {
   "cell_type": "markdown",
   "metadata": {},
   "source": [
    "## Testing\n",
    "\n",
    "Testing is provided by the `test_basic.py` script."
   ]
  },
  {
   "cell_type": "code",
   "execution_count": 15,
   "metadata": {},
   "outputs": [
    {
     "name": "stdout",
     "output_type": "stream",
     "text": [
      "................................\r\n",
      "----------------------------------------------------------------------\r\n",
      "Ran 32 tests in 0.034s\r\n",
      "\r\n",
      "OK\r\n"
     ]
    }
   ],
   "source": [
    "!python tests/test_basic.py"
   ]
  },
  {
   "cell_type": "markdown",
   "metadata": {},
   "source": [
    "## Future work\n",
    "\n",
    "This was a small project, but in the future I want to add more features and operations.\n",
    "\n",
    "To-do:\n",
    "- Implement non-square matricies\n",
    "- Implement getters and setters\n",
    "- Implement convenience functions\n",
    "    - Transpose\n",
    "    - Matrix of zeros/ones"
   ]
  },
  {
   "cell_type": "code",
   "execution_count": null,
   "metadata": {},
   "outputs": [],
   "source": []
  }
 ],
 "metadata": {
  "@webio": {
   "lastCommId": null,
   "lastKernelId": null
  },
  "kernelspec": {
   "display_name": "Python 3",
   "language": "python",
   "name": "python3"
  },
  "language_info": {
   "codemirror_mode": {
    "name": "ipython",
    "version": 3
   },
   "file_extension": ".py",
   "mimetype": "text/x-python",
   "name": "python",
   "nbconvert_exporter": "python",
   "pygments_lexer": "ipython3",
   "version": "3.6.5"
  }
 },
 "nbformat": 4,
 "nbformat_minor": 4
}
